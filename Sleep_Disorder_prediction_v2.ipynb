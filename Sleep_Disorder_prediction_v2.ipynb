{
 "cells": [
  {
   "cell_type": "code",
   "execution_count": 1,
   "metadata": {},
   "outputs": [],
   "source": [
    "try:\n",
    "    import xgboost\n",
    "except ImportError:\n",
    "    !pip install xgboost\n",
    "    import xgboost"
   ]
  },
  {
   "cell_type": "code",
   "execution_count": 2,
   "metadata": {},
   "outputs": [],
   "source": [
    "import pandas as pd\n",
    "import numpy as np\n",
    "from sklearn.model_selection import train_test_split, GridSearchCV\n",
    "from sklearn.preprocessing import StandardScaler, LabelEncoder, OneHotEncoder\n",
    "from sklearn.compose import ColumnTransformer\n",
    "from sklearn.pipeline import Pipeline\n",
    "from sklearn.ensemble import RandomForestClassifier\n",
    "from xgboost import XGBClassifier\n",
    "from sklearn.metrics import accuracy_score, classification_report, confusion_matrix\n",
    "import joblib"
   ]
  },
  {
   "cell_type": "code",
   "execution_count": 3,
   "metadata": {},
   "outputs": [
    {
     "name": "stdout",
     "output_type": "stream",
     "text": [
      "Requirement already satisfied: xgboost in c:\\users\\ultim\\appdata\\local\\programs\\python\\python310\\lib\\site-packages (3.0.2)\n",
      "Requirement already satisfied: numpy in c:\\users\\ultim\\appdata\\local\\programs\\python\\python310\\lib\\site-packages (from xgboost) (1.26.4)\n",
      "Requirement already satisfied: scipy in c:\\users\\ultim\\appdata\\local\\programs\\python\\python310\\lib\\site-packages (from xgboost) (1.15.0)\n"
     ]
    }
   ],
   "source": [
    "!pip install --upgrade xgboost"
   ]
  },
  {
   "cell_type": "code",
   "execution_count": 4,
   "metadata": {},
   "outputs": [
    {
     "data": {
      "text/html": [
       "<div>\n",
       "<style scoped>\n",
       "    .dataframe tbody tr th:only-of-type {\n",
       "        vertical-align: middle;\n",
       "    }\n",
       "\n",
       "    .dataframe tbody tr th {\n",
       "        vertical-align: top;\n",
       "    }\n",
       "\n",
       "    .dataframe thead th {\n",
       "        text-align: right;\n",
       "    }\n",
       "</style>\n",
       "<table border=\"1\" class=\"dataframe\">\n",
       "  <thead>\n",
       "    <tr style=\"text-align: right;\">\n",
       "      <th></th>\n",
       "      <th>Gender</th>\n",
       "      <th>Age</th>\n",
       "      <th>Sleep Duration</th>\n",
       "      <th>Quality of Sleep</th>\n",
       "      <th>Physical Activity Level</th>\n",
       "      <th>BMI Category</th>\n",
       "      <th>Blood Pressure</th>\n",
       "      <th>Heart Rate</th>\n",
       "      <th>Sleep Disorder</th>\n",
       "    </tr>\n",
       "  </thead>\n",
       "  <tbody>\n",
       "    <tr>\n",
       "      <th>0</th>\n",
       "      <td>Male</td>\n",
       "      <td>27</td>\n",
       "      <td>6.1</td>\n",
       "      <td>6</td>\n",
       "      <td>42</td>\n",
       "      <td>Overweight</td>\n",
       "      <td>126/83</td>\n",
       "      <td>77</td>\n",
       "      <td>None</td>\n",
       "    </tr>\n",
       "    <tr>\n",
       "      <th>1</th>\n",
       "      <td>Male</td>\n",
       "      <td>28</td>\n",
       "      <td>6.2</td>\n",
       "      <td>6</td>\n",
       "      <td>60</td>\n",
       "      <td>Normal</td>\n",
       "      <td>125/80</td>\n",
       "      <td>75</td>\n",
       "      <td>None</td>\n",
       "    </tr>\n",
       "    <tr>\n",
       "      <th>2</th>\n",
       "      <td>Male</td>\n",
       "      <td>28</td>\n",
       "      <td>6.2</td>\n",
       "      <td>6</td>\n",
       "      <td>60</td>\n",
       "      <td>Normal</td>\n",
       "      <td>125/80</td>\n",
       "      <td>75</td>\n",
       "      <td>None</td>\n",
       "    </tr>\n",
       "    <tr>\n",
       "      <th>3</th>\n",
       "      <td>Male</td>\n",
       "      <td>28</td>\n",
       "      <td>5.9</td>\n",
       "      <td>4</td>\n",
       "      <td>30</td>\n",
       "      <td>Obese</td>\n",
       "      <td>140/90</td>\n",
       "      <td>85</td>\n",
       "      <td>Sleep Apnea</td>\n",
       "    </tr>\n",
       "    <tr>\n",
       "      <th>4</th>\n",
       "      <td>Male</td>\n",
       "      <td>28</td>\n",
       "      <td>5.9</td>\n",
       "      <td>4</td>\n",
       "      <td>30</td>\n",
       "      <td>Obese</td>\n",
       "      <td>140/90</td>\n",
       "      <td>85</td>\n",
       "      <td>Sleep Apnea</td>\n",
       "    </tr>\n",
       "  </tbody>\n",
       "</table>\n",
       "</div>"
      ],
      "text/plain": [
       "  Gender  Age  Sleep Duration  Quality of Sleep  Physical Activity Level  \\\n",
       "0   Male   27             6.1                 6                       42   \n",
       "1   Male   28             6.2                 6                       60   \n",
       "2   Male   28             6.2                 6                       60   \n",
       "3   Male   28             5.9                 4                       30   \n",
       "4   Male   28             5.9                 4                       30   \n",
       "\n",
       "  BMI Category Blood Pressure  Heart Rate Sleep Disorder  \n",
       "0   Overweight         126/83          77           None  \n",
       "1       Normal         125/80          75           None  \n",
       "2       Normal         125/80          75           None  \n",
       "3        Obese         140/90          85    Sleep Apnea  \n",
       "4        Obese         140/90          85    Sleep Apnea  "
      ]
     },
     "execution_count": 4,
     "metadata": {},
     "output_type": "execute_result"
    }
   ],
   "source": [
    "df = pd.read_csv('Sleep_health_and_lifestyle_dataset.csv')\n",
    "df = df.drop(['Stress Level','Person ID','Occupation','Daily Steps'], axis=1)\n",
    "\n",
    "df.head()"
   ]
  },
  {
   "cell_type": "code",
   "execution_count": 5,
   "metadata": {},
   "outputs": [
    {
     "name": "stdout",
     "output_type": "stream",
     "text": [
      "Gender                     0\n",
      "Age                        0\n",
      "Sleep Duration             0\n",
      "Quality of Sleep           0\n",
      "Physical Activity Level    0\n",
      "BMI Category               0\n",
      "Blood Pressure             0\n",
      "Heart Rate                 0\n",
      "Sleep Disorder             0\n",
      "dtype: int64\n",
      "Gender                      object\n",
      "Age                          int64\n",
      "Sleep Duration             float64\n",
      "Quality of Sleep             int64\n",
      "Physical Activity Level      int64\n",
      "BMI Category                object\n",
      "Blood Pressure              object\n",
      "Heart Rate                   int64\n",
      "Sleep Disorder              object\n",
      "dtype: object\n",
      "Gender: ['Male' 'Female']\n",
      "BMI Category: ['Overweight' 'Normal' 'Obese' 'Normal Weight']\n",
      "Sleep Disorder: ['None' 'Sleep Apnea' 'Insomnia']\n"
     ]
    }
   ],
   "source": [
    "print(df.isnull().sum())\n",
    "\n",
    "# Check data types\n",
    "print(df.dtypes)\n",
    "\n",
    "# List unique values for categoricals\n",
    "for col in ['Gender', 'BMI Category', 'Sleep Disorder']:\n",
    "    print(f'{col}:', df[col].unique())\n"
   ]
  },
  {
   "cell_type": "code",
   "execution_count": 6,
   "metadata": {},
   "outputs": [],
   "source": [
    "df[['systolic_bp', 'diastolic_bp']] = df['Blood Pressure'].str.split('/', expand=True).astype(float)\n",
    "df = df.drop('Blood Pressure', axis=1)"
   ]
  },
  {
   "cell_type": "code",
   "execution_count": 7,
   "metadata": {},
   "outputs": [],
   "source": [
    "X = df.drop('Sleep Disorder', axis=1)\n",
    "y = df['Sleep Disorder']\n",
    "\n",
    "# Identify categorical and numerical columns\n",
    "categorical_cols = ['Gender', 'BMI Category']\n",
    "numerical_cols = [col for col in X.columns if col not in categorical_cols]\n",
    "\n",
    "# Preprocessing for numerical data\n",
    "from sklearn.impute import SimpleImputer\n",
    "numerical_transformer = Pipeline(steps=[\n",
    "    ('imputer', SimpleImputer(strategy='mean')),\n",
    "    ('scaler', StandardScaler())\n",
    "])\n",
    "\n",
    "# Preprocessing for categorical data\n",
    "categorical_transformer = Pipeline(steps=[\n",
    "    ('imputer', SimpleImputer(strategy='most_frequent')),\n",
    "    ('onehot', OneHotEncoder(handle_unknown='ignore'))\n",
    "])\n",
    "\n",
    "# Bundle preprocessing\n",
    "preprocessor = ColumnTransformer(transformers=[\n",
    "    ('num', numerical_transformer, numerical_cols),\n",
    "    ('cat', categorical_transformer, categorical_cols)\n",
    "])\n",
    "\n",
    "# Encode target if not numeric\n",
    "if y.dtype == 'O':\n",
    "    le = LabelEncoder()\n",
    "    y = le.fit_transform(y)"
   ]
  },
  {
   "cell_type": "code",
   "execution_count": 8,
   "metadata": {},
   "outputs": [],
   "source": [
    "X_train, X_test, y_train, y_test = train_test_split(X, y, test_size=0.2, random_state=42, stratify=y)\n"
   ]
  },
  {
   "cell_type": "code",
   "execution_count": 9,
   "metadata": {},
   "outputs": [
    {
     "name": "stdout",
     "output_type": "stream",
     "text": [
      "Random Forest Accuracy: 0.9733\n",
      "XGBoost Accuracy: 0.9733\n",
      "\n",
      "Best Model: Random Forest\n"
     ]
    },
    {
     "name": "stderr",
     "output_type": "stream",
     "text": [
      "c:\\Users\\ultim\\AppData\\Local\\Programs\\Python\\Python310\\lib\\site-packages\\xgboost\\training.py:183: UserWarning: [22:50:22] WARNING: C:\\actions-runner\\_work\\xgboost\\xgboost\\src\\learner.cc:738: \n",
      "Parameters: { \"use_label_encoder\" } are not used.\n",
      "\n",
      "  bst.update(dtrain, iteration=i, fobj=obj)\n"
     ]
    }
   ],
   "source": [
    "# Random Forest Pipeline\n",
    "rf_pipeline = Pipeline(steps=[\n",
    "    ('preprocessor', preprocessor),\n",
    "    ('classifier', RandomForestClassifier(random_state=42))\n",
    "])\n",
    "\n",
    "# XGBoost Pipeline\n",
    "xgb_pipeline = Pipeline(steps=[\n",
    "    ('preprocessor', preprocessor),\n",
    "    ('classifier', XGBClassifier(use_label_encoder=False, eval_metric='mlogloss', random_state=42))\n",
    "])\n",
    "\n",
    "# Train both models\n",
    "rf_pipeline.fit(X_train, y_train)\n",
    "xgb_pipeline.fit(X_train, y_train)\n",
    "\n",
    "# Evaluate\n",
    "rf_pred = rf_pipeline.predict(X_test)\n",
    "xgb_pred = xgb_pipeline.predict(X_test)\n",
    "\n",
    "rf_acc = accuracy_score(y_test, rf_pred)\n",
    "xgb_acc = accuracy_score(y_test, xgb_pred)\n",
    "\n",
    "print(f'Random Forest Accuracy: {rf_acc:.4f}')\n",
    "print(f'XGBoost Accuracy: {xgb_acc:.4f}')\n",
    "\n",
    "# Select best\n",
    "if rf_acc >= xgb_acc:\n",
    "    best_model = rf_pipeline\n",
    "    best_name = 'Random Forest'\n",
    "    best_pred = rf_pred\n",
    "else:\n",
    "    best_model = xgb_pipeline\n",
    "    best_name = 'XGBoost'\n",
    "    best_pred = xgb_pred\n",
    "\n",
    "print(f'\\nBest Model: {best_name}')\n"
   ]
  },
  {
   "cell_type": "code",
   "execution_count": 10,
   "metadata": {},
   "outputs": [
    {
     "name": "stdout",
     "output_type": "stream",
     "text": [
      "Accuracy: 0.9733333333333334\n",
      "Confusion Matrix:\n",
      " [[14  0  1]\n",
      " [ 0 44  0]\n",
      " [ 1  0 15]]\n",
      "Classification Report:\n",
      "               precision    recall  f1-score   support\n",
      "\n",
      "           0       0.93      0.93      0.93        15\n",
      "           1       1.00      1.00      1.00        44\n",
      "           2       0.94      0.94      0.94        16\n",
      "\n",
      "    accuracy                           0.97        75\n",
      "   macro avg       0.96      0.96      0.96        75\n",
      "weighted avg       0.97      0.97      0.97        75\n",
      "\n"
     ]
    }
   ],
   "source": [
    "print('Accuracy:', accuracy_score(y_test, best_pred))\n",
    "print('Confusion Matrix:\\n', confusion_matrix(y_test, best_pred))\n",
    "print('Classification Report:\\n', classification_report(y_test, best_pred))\n"
   ]
  },
  {
   "cell_type": "code",
   "execution_count": 11,
   "metadata": {},
   "outputs": [
    {
     "name": "stdout",
     "output_type": "stream",
     "text": [
      "Model saved as sleep_disorder_pred_v2.pkl\n",
      "Label encoder saved as sleep_disorder_label_encoder.pkl\n"
     ]
    }
   ],
   "source": [
    "# Save the best model pipeline\n",
    "joblib.dump(best_model, 'sleep_disorder_pred_v2.pkl')\n",
    "print('Model saved as sleep_disorder_pred_v2.pkl')\n",
    "\n",
    "# Save the label encoder if used\n",
    "if 'le' in locals():\n",
    "    joblib.dump(le, 'sleep_disorder_label_encoder.pkl')\n",
    "    print('Label encoder saved as sleep_disorder_label_encoder.pkl')\n"
   ]
  },
  {
   "cell_type": "code",
   "execution_count": 12,
   "metadata": {},
   "outputs": [
    {
     "name": "stdout",
     "output_type": "stream",
     "text": [
      "Name: scikit-learn\n",
      "Version: 1.6.0\n",
      "Summary: A set of python modules for machine learning and data mining\n",
      "Home-page: https://scikit-learn.org\n",
      "Author: \n",
      "Author-email: \n",
      "License: BSD 3-Clause License\n",
      "         \n",
      "         Copyright (c) 2007-2024 The scikit-learn developers.\n",
      "         All rights reserved.\n",
      "         \n",
      "         Redistribution and use in source and binary forms, with or without\n",
      "         modification, are permitted provided that the following conditions are met:\n",
      "         \n",
      "         * Redistributions of source code must retain the above copyright notice, this\n",
      "           list of conditions and the following disclaimer.\n",
      "         \n",
      "         * Redistributions in binary form must reproduce the above copyright notice,\n",
      "           this list of conditions and the following disclaimer in the documentation\n",
      "           and/or other materials provided with the distribution.\n",
      "         \n",
      "         * Neither the name of the copyright holder nor the names of its\n",
      "           contributors may be used to endorse or promote products derived from\n",
      "           this software without specific prior written permission.\n",
      "         \n",
      "         THIS SOFTWARE IS PROVIDED BY THE COPYRIGHT HOLDERS AND CONTRIBUTORS \"AS IS\"\n",
      "         AND ANY EXPRESS OR IMPLIED WARRANTIES, INCLUDING, BUT NOT LIMITED TO, THE\n",
      "         IMPLIED WARRANTIES OF MERCHANTABILITY AND FITNESS FOR A PARTICULAR PURPOSE ARE\n",
      "         DISCLAIMED. IN NO EVENT SHALL THE COPYRIGHT HOLDER OR CONTRIBUTORS BE LIABLE\n",
      "         FOR ANY DIRECT, INDIRECT, INCIDENTAL, SPECIAL, EXEMPLARY, OR CONSEQUENTIAL\n",
      "         DAMAGES (INCLUDING, BUT NOT LIMITED TO, PROCUREMENT OF SUBSTITUTE GOODS OR\n",
      "         SERVICES; LOSS OF USE, DATA, OR PROFITS; OR BUSINESS INTERRUPTION) HOWEVER\n",
      "         CAUSED AND ON ANY THEORY OF LIABILITY, WHETHER IN CONTRACT, STRICT LIABILITY,\n",
      "         OR TORT (INCLUDING NEGLIGENCE OR OTHERWISE) ARISING IN ANY WAY OUT OF THE USE\n",
      "         OF THIS SOFTWARE, EVEN IF ADVISED OF THE POSSIBILITY OF SUCH DAMAGE.\n",
      "         \n",
      "         ----\n",
      "         \n",
      "         This binary distribution of scikit-learn also bundles the following software:\n",
      "         \n",
      "         ----\n",
      "         \n",
      "         Name: Microsoft Visual C++ Runtime Files\n",
      "         Files: sklearn\\.libs\\*.dll\n",
      "         Availability: https://learn.microsoft.com/en-us/visualstudio/releases/2015/2015-redistribution-vs\n",
      "         \n",
      "         Subject to the License Terms for the software, you may copy and distribute with your\n",
      "         program any of the files within the followng folder and its subfolders except as noted\n",
      "         below. You may not modify these files.\n",
      "         \n",
      "         C:\\Program Files (x86)\\Microsoft Visual Studio 14.0\\VC\\redist\n",
      "         \n",
      "         You may not distribute the contents of the following folders:\n",
      "         \n",
      "         C:\\Program Files (x86)\\Microsoft Visual Studio 14.0\\VC\\redist\\debug_nonredist\n",
      "         C:\\Program Files (x86)\\Microsoft Visual Studio 14.0\\VC\\redist\\onecore\\debug_nonredist\n",
      "         \n",
      "         Subject to the License Terms for the software, you may copy and distribute the following\n",
      "         files with your program in your program’s application local folder or by deploying them\n",
      "         into the Global Assembly Cache (GAC):\n",
      "         \n",
      "         VC\\atlmfc\\lib\\mfcmifc80.dll\n",
      "         VC\\atlmfc\\lib\\amd64\\mfcmifc80.dll\n",
      "         \n",
      "Location: c:\\users\\ultim\\appdata\\local\\programs\\python\\python310\\lib\\site-packages\n",
      "Requires: joblib, numpy, scipy, threadpoolctl\n",
      "Required-by: imbalanced-learn, librosa, sklearn-compat\n"
     ]
    }
   ],
   "source": [
    "!pip show scikit-learn"
   ]
  }
 ],
 "metadata": {
  "kernelspec": {
   "display_name": "Python 3",
   "language": "python",
   "name": "python3"
  },
  "language_info": {
   "codemirror_mode": {
    "name": "ipython",
    "version": 3
   },
   "file_extension": ".py",
   "mimetype": "text/x-python",
   "name": "python",
   "nbconvert_exporter": "python",
   "pygments_lexer": "ipython3",
   "version": "3.10.0"
  }
 },
 "nbformat": 4,
 "nbformat_minor": 2
}
